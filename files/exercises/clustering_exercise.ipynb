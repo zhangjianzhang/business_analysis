{
 "cells": [
  {
   "cell_type": "markdown",
   "id": "7dbbfd32-eab1-410c-b66f-4d0d83c7c1bb",
   "metadata": {},
   "source": [
    "<center><font size=4 style=\"color:#BA4A00\"><strong>汽车产品聚类分析实战</strong></font></center>"
   ]
  },
  {
   "cell_type": "markdown",
   "id": "f60130ea-0e39-4808-a56e-ae7c3f116528",
   "metadata": {},
   "source": [
    "使用 UCI 汽车数据集 (<a href=\"https://archive.ics.uci.edu/ml/datasets/Automobile\" target=\"_blank\">数据详情和下载地址</a>)，对 205 种汽车进行聚类，对于指定的车型，通过聚类分析找到其竞品车型，为产品定位提供决策支持。建议流程如下：\n",
    "\n",
    "- 理解数据各字段含义，理解每条记录含义；\n",
    "\n",
    "- 数据预处理，对不同类型的字段进行数值化和规范化；\n",
    "\n",
    "- 选择合适的类簇数目；\n",
    "\n",
    "- 数据聚类；\n",
    "\n",
    "- 分析各类簇的车辆特点，为指定车型提供竞品分析。"
   ]
  },
  {
   "cell_type": "code",
   "execution_count": null,
   "id": "4d9ba5d8-4854-410f-97ba-1041df559483",
   "metadata": {},
   "outputs": [],
   "source": []
  }
 ],
 "metadata": {
  "kernelspec": {
   "display_name": "Python 3 (ipykernel)",
   "language": "python",
   "name": "python3"
  },
  "language_info": {
   "codemirror_mode": {
    "name": "ipython",
    "version": 3
   },
   "file_extension": ".py",
   "mimetype": "text/x-python",
   "name": "python",
   "nbconvert_exporter": "python",
   "pygments_lexer": "ipython3",
   "version": "3.9.7"
  }
 },
 "nbformat": 4,
 "nbformat_minor": 5
}
