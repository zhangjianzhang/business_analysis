{
 "cells": [
  {
   "cell_type": "markdown",
   "id": "df08aee2-ab11-4bd9-abb5-f1de21e6430a",
   "metadata": {},
   "source": [
    "<center><font size=4 style=\"color:#BA4A00\"><strong>客户聚类分析</strong></font></center>"
   ]
  },
  {
   "cell_type": "markdown",
   "id": "0c665d6c-4d28-4419-88ea-d65e6525a160",
   "metadata": {},
   "source": [
    "## 1. 导入数据和所需的库"
   ]
  },
  {
   "cell_type": "code",
   "execution_count": 1,
   "id": "15995ee3-4eb0-4688-9333-26fb2c166803",
   "metadata": {},
   "outputs": [],
   "source": [
    "import matplotlib.pyplot as plt\n",
    "import pandas as pd\n",
    "%matplotlib inline"
   ]
  },
  {
   "cell_type": "markdown",
   "id": "4dd05e65-eb29-4d49-b255-740899db40f2",
   "metadata": {},
   "source": [
    "使用`pandas`读取数据并查看数据"
   ]
  },
  {
   "cell_type": "code",
   "execution_count": 2,
   "id": "8722b64e-2a09-4670-b603-733aae329f4f",
   "metadata": {},
   "outputs": [],
   "source": [
    "customer_data = pd.read_csv('./data/ShoppingData.csv')"
   ]
  },
  {
   "cell_type": "markdown",
   "id": "2df6dbf8-e9eb-4cf7-979a-647bb3f5c535",
   "metadata": {},
   "source": [
    "## 2. 查看数据内容"
   ]
  },
  {
   "cell_type": "code",
   "execution_count": 3,
   "id": "1652bb68-13f4-49c2-9b57-94028bb3a8cc",
   "metadata": {},
   "outputs": [
    {
     "data": {
      "text/plain": [
       "(200, 5)"
      ]
     },
     "execution_count": 3,
     "metadata": {},
     "output_type": "execute_result"
    }
   ],
   "source": [
    "# 查看数据维度\n",
    "customer_data.shape"
   ]
  },
  {
   "cell_type": "markdown",
   "id": "86534aab-1365-44a3-8a65-1badafdf798c",
   "metadata": {},
   "source": [
    "数据集中共有200条客户记录，用5个维度来刻画每一位客户。"
   ]
  },
  {
   "cell_type": "code",
   "execution_count": 4,
   "id": "a9496f2f-bf81-40d2-b5ba-9d5c6b198464",
   "metadata": {},
   "outputs": [
    {
     "data": {
      "text/html": [
       "<div>\n",
       "<style scoped>\n",
       "    .dataframe tbody tr th:only-of-type {\n",
       "        vertical-align: middle;\n",
       "    }\n",
       "\n",
       "    .dataframe tbody tr th {\n",
       "        vertical-align: top;\n",
       "    }\n",
       "\n",
       "    .dataframe thead th {\n",
       "        text-align: right;\n",
       "    }\n",
       "</style>\n",
       "<table border=\"1\" class=\"dataframe\">\n",
       "  <thead>\n",
       "    <tr style=\"text-align: right;\">\n",
       "      <th></th>\n",
       "      <th>CustomerID</th>\n",
       "      <th>Genre</th>\n",
       "      <th>Age</th>\n",
       "      <th>Annual Income (k$)</th>\n",
       "      <th>Spending Score (1-100)</th>\n",
       "    </tr>\n",
       "  </thead>\n",
       "  <tbody>\n",
       "    <tr>\n",
       "      <th>0</th>\n",
       "      <td>1</td>\n",
       "      <td>Male</td>\n",
       "      <td>19</td>\n",
       "      <td>15</td>\n",
       "      <td>39</td>\n",
       "    </tr>\n",
       "    <tr>\n",
       "      <th>1</th>\n",
       "      <td>2</td>\n",
       "      <td>Male</td>\n",
       "      <td>21</td>\n",
       "      <td>15</td>\n",
       "      <td>81</td>\n",
       "    </tr>\n",
       "    <tr>\n",
       "      <th>2</th>\n",
       "      <td>3</td>\n",
       "      <td>Female</td>\n",
       "      <td>20</td>\n",
       "      <td>16</td>\n",
       "      <td>6</td>\n",
       "    </tr>\n",
       "    <tr>\n",
       "      <th>3</th>\n",
       "      <td>4</td>\n",
       "      <td>Female</td>\n",
       "      <td>23</td>\n",
       "      <td>16</td>\n",
       "      <td>77</td>\n",
       "    </tr>\n",
       "    <tr>\n",
       "      <th>4</th>\n",
       "      <td>5</td>\n",
       "      <td>Female</td>\n",
       "      <td>31</td>\n",
       "      <td>17</td>\n",
       "      <td>40</td>\n",
       "    </tr>\n",
       "  </tbody>\n",
       "</table>\n",
       "</div>"
      ],
      "text/plain": [
       "   CustomerID   Genre  Age  Annual Income (k$)  Spending Score (1-100)\n",
       "0           1    Male   19                  15                      39\n",
       "1           2    Male   21                  15                      81\n",
       "2           3  Female   20                  16                       6\n",
       "3           4  Female   23                  16                      77\n",
       "4           5  Female   31                  17                      40"
      ]
     },
     "execution_count": 4,
     "metadata": {},
     "output_type": "execute_result"
    }
   ],
   "source": [
    "# 查看数据样例\n",
    "customer_data.head()"
   ]
  },
  {
   "cell_type": "markdown",
   "id": "ff89a913-f53a-4f92-9f63-675a581e6751",
   "metadata": {},
   "source": [
    "每条用户数据有五个属性：ID，性别，年龄，年收入，消费分\n",
    "\n",
    "为了在二维特征空间中可视化聚类结果，本例只使用年收入和消费分属性"
   ]
  },
  {
   "cell_type": "code",
   "execution_count": 5,
   "id": "eee14a84-6f5d-4a7c-8c6b-67186483732f",
   "metadata": {},
   "outputs": [],
   "source": [
    "# 删除其余三列属性\n",
    "data = customer_data.iloc[:, 3:5].values"
   ]
  },
  {
   "cell_type": "code",
   "execution_count": 6,
   "id": "a0bbaca8-b0e6-4bd4-b15e-3c0af16b601b",
   "metadata": {},
   "outputs": [
    {
     "data": {
      "text/plain": [
       "(200, 2)"
      ]
     },
     "execution_count": 6,
     "metadata": {},
     "output_type": "execute_result"
    }
   ],
   "source": [
    "data.shape"
   ]
  },
  {
   "cell_type": "code",
   "execution_count": 7,
   "id": "94e7ce2e-5074-451b-8ab4-d9bc864b4549",
   "metadata": {},
   "outputs": [
    {
     "data": {
      "text/plain": [
       "numpy.ndarray"
      ]
     },
     "execution_count": 7,
     "metadata": {},
     "output_type": "execute_result"
    }
   ],
   "source": [
    "# 数据类型为numpy数组\n",
    "type(data)"
   ]
  },
  {
   "cell_type": "markdown",
   "id": "0eb6fa90-c103-4778-9e0a-bc204abbe697",
   "metadata": {},
   "source": [
    "为便于确定类簇数$k$，先将数据点在二维平面进行可视化，为寻找$k$提供直觉依据。"
   ]
  },
  {
   "cell_type": "code",
   "execution_count": 8,
   "id": "0aacb174-adc0-4acb-9376-293809f02764",
   "metadata": {},
   "outputs": [
    {
     "data": {
      "text/plain": [
       "<matplotlib.collections.PathCollection at 0x7f86301ada90>"
      ]
     },
     "execution_count": 8,
     "metadata": {},
     "output_type": "execute_result"
    },
    {
     "data": {
      "image/png": "[encoded data removed]",
      "text/plain": [
       "<Figure size 432x288 with 1 Axes>"
      ]
     },
     "metadata": {
      "needs_background": "light"
     },
     "output_type": "display_data"
    }
   ],
   "source": [
    "plt.scatter(data[:,0],data[:,1])"
   ]
  },
  {
   "cell_type": "markdown",
   "id": "57ebf9fb-b57b-4d98-8b12-b5fd1acb7080",
   "metadata": {},
   "source": [
    "由上图可以看出，将类簇数设置为$k=5$是一个合理的选择。"
   ]
  },
  {
   "cell_type": "markdown",
   "id": "80302fdb-0afd-4247-b200-902630317d46",
   "metadata": {},
   "source": [
    "## 3. 聚类分析"
   ]
  },
  {
   "cell_type": "markdown",
   "id": "a7085820-1935-4c96-b272-43e049af4626",
   "metadata": {},
   "source": [
    "下面使用scikit-learn中的K-means模型对客户数据点进行聚类，并为每个数据点分配类簇标签"
   ]
  },
  {
   "cell_type": "code",
   "execution_count": 9,
   "id": "c12422a8-0b57-451e-bca2-cca11ba0227e",
   "metadata": {},
   "outputs": [],
   "source": [
    "# 使用help函数查看k_means函数的具体用法和各参数含义\n",
    "# help(k_means)"
   ]
  },
  {
   "cell_type": "code",
   "execution_count": 10,
   "id": "755fba53-6f6c-42a5-a9f9-13c0a21320dc",
   "metadata": {},
   "outputs": [],
   "source": [
    "from sklearn.cluster import k_means\n",
    "\n",
    "clusters = k_means(data,n_clusters=5)"
   ]
  },
  {
   "cell_type": "markdown",
   "id": "06cbdff5-c15f-4a47-9632-2ad0cb2ae371",
   "metadata": {},
   "source": [
    "聚类结果返回一个元组(tuple)，第一个元素为类簇中心，第二个元素为每个数据点对应的类簇标签"
   ]
  },
  {
   "cell_type": "code",
   "execution_count": 11,
   "id": "0a2f25bd-dcad-40f3-9029-221502103759",
   "metadata": {},
   "outputs": [
    {
     "data": {
      "text/plain": [
       "tuple"
      ]
     },
     "execution_count": 11,
     "metadata": {},
     "output_type": "execute_result"
    }
   ],
   "source": [
    "# 查看clusters的数据类型\n",
    "type(clusters)"
   ]
  },
  {
   "cell_type": "code",
   "execution_count": 12,
   "id": "3541a6dd-f216-415c-9c6a-b661e7c6936c",
   "metadata": {},
   "outputs": [
    {
     "data": {
      "text/plain": [
       "(5, 2)"
      ]
     },
     "execution_count": 12,
     "metadata": {},
     "output_type": "execute_result"
    }
   ],
   "source": [
    "# 查看元组第一个元素的维度\n",
    "clusters[0].shape"
   ]
  },
  {
   "cell_type": "code",
   "execution_count": 13,
   "id": "86ef51cf-1651-4fd0-9a3a-fde1f53d62d6",
   "metadata": {},
   "outputs": [
    {
     "data": {
      "text/plain": [
       "array([[86.53846154, 82.12820513],\n",
       "       [26.30434783, 20.91304348],\n",
       "       [88.2       , 17.11428571],\n",
       "       [25.72727273, 79.36363636],\n",
       "       [55.2962963 , 49.51851852]])"
      ]
     },
     "execution_count": 13,
     "metadata": {},
     "output_type": "execute_result"
    }
   ],
   "source": [
    "# 五个类簇的中心\n",
    "clusters[0]"
   ]
  },
  {
   "cell_type": "code",
   "execution_count": 14,
   "id": "1d9480ba-721f-41d0-aa31-874961905d68",
   "metadata": {},
   "outputs": [
    {
     "data": {
      "text/plain": [
       "(200,)"
      ]
     },
     "execution_count": 14,
     "metadata": {},
     "output_type": "execute_result"
    }
   ],
   "source": [
    "# 查看元组第二个元素的维度\n",
    "clusters[1].shape"
   ]
  },
  {
   "cell_type": "code",
   "execution_count": 15,
   "id": "f6118dd6-7f77-4f22-b76a-c14bffe5350a",
   "metadata": {},
   "outputs": [
    {
     "data": {
      "text/plain": [
       "array([1, 3, 1, 3, 1, 3, 1, 3, 1, 3, 1, 3, 1, 3, 1, 3, 1, 3, 1, 3, 1, 3,\n",
       "       1, 3, 1, 3, 1, 3, 1, 3, 1, 3, 1, 3, 1, 3, 1, 3, 1, 3, 1, 3, 1, 4,\n",
       "       1, 3, 4, 4, 4, 4, 4, 4, 4, 4, 4, 4, 4, 4, 4, 4, 4, 4, 4, 4, 4, 4,\n",
       "       4, 4, 4, 4, 4, 4, 4, 4, 4, 4, 4, 4, 4, 4, 4, 4, 4, 4, 4, 4, 4, 4,\n",
       "       4, 4, 4, 4, 4, 4, 4, 4, 4, 4, 4, 4, 4, 4, 4, 4, 4, 4, 4, 4, 4, 4,\n",
       "       4, 4, 4, 4, 4, 4, 4, 4, 4, 4, 4, 4, 4, 0, 2, 0, 4, 0, 2, 0, 2, 0,\n",
       "       4, 0, 2, 0, 2, 0, 2, 0, 2, 0, 4, 0, 2, 0, 2, 0, 2, 0, 2, 0, 2, 0,\n",
       "       2, 0, 2, 0, 2, 0, 2, 0, 2, 0, 2, 0, 2, 0, 2, 0, 2, 0, 2, 0, 2, 0,\n",
       "       2, 0, 2, 0, 2, 0, 2, 0, 2, 0, 2, 0, 2, 0, 2, 0, 2, 0, 2, 0, 2, 0,\n",
       "       2, 0], dtype=int32)"
      ]
     },
     "execution_count": 15,
     "metadata": {},
     "output_type": "execute_result"
    }
   ],
   "source": [
    "# 查看每个数据点的类簇标签\n",
    "clusters[1]"
   ]
  },
  {
   "cell_type": "markdown",
   "id": "6b99c915-5457-4067-8874-7c30cecb1be8",
   "metadata": {},
   "source": [
    "此处的类簇标签只是表示类簇的一个符号，并不具备任何含义，需要进一步分析每个类簇中数据点的特征，来为每个类簇赋予有意义的解释。"
   ]
  },
  {
   "cell_type": "markdown",
   "id": "bedd3b60-d7af-449b-8c50-0e71b9540b26",
   "metadata": {},
   "source": [
    "## 4. 结果分析"
   ]
  },
  {
   "cell_type": "markdown",
   "id": "95e16a19-1b66-42a2-b432-0ad50bf3dd66",
   "metadata": {},
   "source": [
    "将数据点按照聚类结果绘制在二维平面上，为不同类簇的数据点着不同的颜色，横轴表示年收入，纵轴表示消费分"
   ]
  },
  {
   "cell_type": "code",
   "execution_count": 16,
   "id": "8cc718c8-e012-46f0-8809-269162f93177",
   "metadata": {},
   "outputs": [
    {
     "data": {
      "text/plain": [
       "Text(0, 0.5, 'Spending Score')"
      ]
     },
     "execution_count": 16,
     "metadata": {},
     "output_type": "execute_result"
    },
    {
     "data": {
      "image/png": "[encoded data removed]",
      "text/plain": [
       "<Figure size 432x288 with 1 Axes>"
      ]
     },
     "metadata": {
      "needs_background": "light"
     },
     "output_type": "display_data"
    }
   ],
   "source": [
    "plt.scatter(data[:,0],data[:,1], c=clusters[1], cmap='rainbow')\n",
    "plt.title(\"Customer Clustering\")\n",
    "plt.xlabel(\"Annual Income\")\n",
    "plt.ylabel(\"Spending Score\")"
   ]
  },
  {
   "cell_type": "markdown",
   "id": "ba8ca26d-07b0-4e9d-aa72-b914a9951218",
   "metadata": {},
   "source": [
    "从上图可以看到5种颜色的客户数据点代表5个不同的类簇，进一步分析年收入和消费分两个维度可知，5个类簇对应5种不同特征的消费群体。"
   ]
  },
  {
   "cell_type": "markdown",
   "id": "bbd696d5-de83-4477-ac81-529b69731351",
   "metadata": {},
   "source": [
    "- 左下角的客户群体收入低，消费低；\n",
    "\n",
    "- 左上角的客户群体收入低，消费高；\n",
    "\n",
    "- 右上角的客户群体收入高，消费高，是企业的现金牛客户，也是需要用心维系商业关系的大客户；\n",
    "\n",
    "- 右下角的客户群体收入高，消费低，这类客户具有消费能力，需要有针对性地进行营销，激发其消费潜力；\n",
    "\n",
    "- 正中间的客户群体收入中，消费中，且数据点众多，这类客户是企业的主要客户群体，需要积极维护客户关系，保持其持续的消费动力。"
   ]
  }
 ],
 "metadata": {
  "kernelspec": {
   "display_name": "Python 3 (ipykernel)",
   "language": "python",
   "name": "python3"
  },
  "language_info": {
   "codemirror_mode": {
    "name": "ipython",
    "version": 3
   },
   "file_extension": ".py",
   "mimetype": "text/x-python",
   "name": "python",
   "nbconvert_exporter": "python",
   "pygments_lexer": "ipython3",
   "version": "3.9.7"
  }
 },
 "nbformat": 4,
 "nbformat_minor": 5
}
