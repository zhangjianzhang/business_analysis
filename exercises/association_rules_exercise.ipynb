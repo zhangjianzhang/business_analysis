{
 "cells": [
  {
   "cell_type": "markdown",
   "id": "54c4935b-859f-4508-b0ca-f5129feb781c",
   "metadata": {},
   "source": [
    "<center><font size=3 style=\"color:#BA4A00\"><strong>淘宝用户购物行为关联规则挖掘实战</strong></font></center>"
   ]
  },
  {
   "cell_type": "markdown",
   "id": "48db5e80-cb0e-4c6e-a3df-399ebeb1a409",
   "metadata": {},
   "source": [
    "### 要求"
   ]
  },
  {
   "cell_type": "markdown",
   "id": "6d3a9838-8679-430e-9a56-c6c6d4ca7f3e",
   "metadata": {},
   "source": [
    "使用淘宝用户购物行为数据集（<a href=\"https://tianchi.aliyun.com/dataset/dataDetail?dataId=649\" target=\"_blank\">数据详情和下载地址</a>）\n",
    "，针对收藏、加入购物车、购买行为，分别挖掘商品之间以及商品类别之间的关联规则。建议流程如下："
   ]
  },
  {
   "cell_type": "markdown",
   "id": "f0736fb5-ac3e-4d95-bb20-a1c40c838b7e",
   "metadata": {},
   "source": [
    "- 理解数据各字段含义，理解每条记录含义；\n",
    "\n",
    "- 数据预处理，按照三类用户行为划分数据；\n",
    "\n",
    "- 分别挖掘商品和商品类别之间的关联规则；\n",
    "\n",
    "- 参考课程示例代码应用关联规则挖掘；\n",
    "\n",
    "- 分析挖掘结果，并为网店或淘宝平台提出有针对性的营销建议。"
   ]
  },
  {
   "cell_type": "code",
   "execution_count": null,
   "id": "4a9bd501-0bea-4802-93b9-d9e8a2760856",
   "metadata": {},
   "outputs": [],
   "source": []
  }
 ],
 "metadata": {
  "kernelspec": {
   "display_name": "Python 3 (ipykernel)",
   "language": "python",
   "name": "python3"
  },
  "language_info": {
   "codemirror_mode": {
    "name": "ipython",
    "version": 3
   },
   "file_extension": ".py",
   "mimetype": "text/x-python",
   "name": "python",
   "nbconvert_exporter": "python",
   "pygments_lexer": "ipython3",
   "version": "3.9.7"
  }
 },
 "nbformat": 4,
 "nbformat_minor": 5
}
